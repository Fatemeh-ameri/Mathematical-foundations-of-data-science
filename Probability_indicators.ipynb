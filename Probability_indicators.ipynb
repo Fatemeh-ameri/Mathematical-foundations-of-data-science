{
 "cells": [
  {
   "cell_type": "code",
   "execution_count": 36,
   "metadata": {},
   "outputs": [],
   "source": [
    "from collections import Counter\n",
    "import random"
   ]
  },
  {
   "cell_type": "code",
   "execution_count": 37,
   "metadata": {},
   "outputs": [
    {
     "name": "stdout",
     "output_type": "stream",
     "text": [
      "[116, 64, 91, 139, 85, 104, 61, 43, 84, 139, 13, 146, 71, 45, 53, 54, 61, 100, 114, 146, 11, 57, 1, 36, 122, 106, 112, 96, 102, 83, 33, 109, 69, 57, 78, 126, 84, 30, 43, 116, 127, 124, 30, 11, 21, 140, 7, 110, 108, 39, 46, 12, 41, 36, 80, 135, 17, 120, 34, 26, 86, 133, 136, 103, 73, 135, 87, 25, 42, 106, 95, 97, 143, 78, 148, 64, 135, 57, 37, 45, 150, 34, 64, 34, 4, 0, 132, 84, 75, 64, 78, 84, 19, 65, 28, 99, 132, 66, 120, 110, 66, 120, 63, 6, 3, 105, 70, 68, 46, 71, 134, 104, 60, 65, 73, 143, 87, 79, 114, 123, 32, 31, 42, 77, 121, 38, 103, 95, 2, 6, 70, 146, 44, 71, 114, 118, 39, 37, 146, 61, 102, 123, 43, 2, 7, 85, 115, 132, 117, 141]\n"
     ]
    }
   ],
   "source": [
    "friend  = []\n",
    "for i in range(0,150):\n",
    "    friend.append(random.randint(0,150))\n",
    "print(friend)"
   ]
  },
  {
   "cell_type": "code",
   "execution_count": 38,
   "metadata": {},
   "outputs": [
    {
     "name": "stdout",
     "output_type": "stream",
     "text": [
      "Counter({64: 4, 84: 4, 146: 4, 61: 3, 43: 3, 71: 3, 114: 3, 57: 3, 78: 3, 135: 3, 120: 3, 34: 3, 132: 3, 116: 2, 139: 2, 85: 2, 104: 2, 45: 2, 11: 2, 36: 2, 106: 2, 102: 2, 30: 2, 7: 2, 110: 2, 39: 2, 46: 2, 103: 2, 73: 2, 87: 2, 42: 2, 95: 2, 143: 2, 37: 2, 65: 2, 66: 2, 6: 2, 70: 2, 123: 2, 2: 2, 91: 1, 13: 1, 53: 1, 54: 1, 100: 1, 1: 1, 122: 1, 112: 1, 96: 1, 83: 1, 33: 1, 109: 1, 69: 1, 126: 1, 127: 1, 124: 1, 21: 1, 140: 1, 108: 1, 12: 1, 41: 1, 80: 1, 17: 1, 26: 1, 86: 1, 133: 1, 136: 1, 25: 1, 97: 1, 148: 1, 150: 1, 4: 1, 0: 1, 75: 1, 19: 1, 28: 1, 99: 1, 63: 1, 3: 1, 105: 1, 68: 1, 134: 1, 60: 1, 79: 1, 32: 1, 31: 1, 77: 1, 121: 1, 38: 1, 44: 1, 118: 1, 115: 1, 117: 1, 141: 1})\n"
     ]
    }
   ],
   "source": [
    "count = Counter(friend)\n",
    "print(count)"
   ]
  },
  {
   "cell_type": "code",
   "execution_count": 39,
   "metadata": {},
   "outputs": [
    {
     "name": "stdout",
     "output_type": "stream",
     "text": [
      "150\n"
     ]
    }
   ],
   "source": [
    "number_friend = len(friend)\n",
    "print(number_friend)"
   ]
  },
  {
   "cell_type": "code",
   "execution_count": 40,
   "metadata": {},
   "outputs": [
    {
     "name": "stdout",
     "output_type": "stream",
     "text": [
      "150\n"
     ]
    }
   ],
   "source": [
    "max_friend = max(friend)\n",
    "print(max_friend)"
   ]
  },
  {
   "cell_type": "code",
   "execution_count": 41,
   "metadata": {},
   "outputs": [
    {
     "name": "stdout",
     "output_type": "stream",
     "text": [
      "0\n"
     ]
    }
   ],
   "source": [
    "min_friend = min(friend)\n",
    "print(min_friend)"
   ]
  },
  {
   "cell_type": "code",
   "execution_count": 42,
   "metadata": {},
   "outputs": [
    {
     "name": "stdout",
     "output_type": "stream",
     "text": [
      "[0, 1, 2, 2, 3, 4, 6, 6, 7, 7, 11, 11, 12, 13, 17, 19, 21, 25, 26, 28, 30, 30, 31, 32, 33, 34, 34, 34, 36, 36, 37, 37, 38, 39, 39, 41, 42, 42, 43, 43, 43, 44, 45, 45, 46, 46, 53, 54, 57, 57, 57, 60, 61, 61, 61, 63, 64, 64, 64, 64, 65, 65, 66, 66, 68, 69, 70, 70, 71, 71, 71, 73, 73, 75, 77, 78, 78, 78, 79, 80, 83, 84, 84, 84, 84, 85, 85, 86, 87, 87, 91, 95, 95, 96, 97, 99, 100, 102, 102, 103, 103, 104, 104, 105, 106, 106, 108, 109, 110, 110, 112, 114, 114, 114, 115, 116, 116, 117, 118, 120, 120, 120, 121, 122, 123, 123, 124, 126, 127, 132, 132, 132, 133, 134, 135, 135, 135, 136, 139, 139, 140, 141, 143, 143, 146, 146, 146, 146, 148, 150]\n"
     ]
    }
   ],
   "source": [
    "sort_friend = sorted(friend)\n",
    "print(sort_friend)"
   ]
  },
  {
   "cell_type": "code",
   "execution_count": 43,
   "metadata": {},
   "outputs": [
    {
     "name": "stdout",
     "output_type": "stream",
     "text": [
      "116\n"
     ]
    }
   ],
   "source": [
    "smallest_friend = friend[0]\n",
    "print(smallest_friend)"
   ]
  },
  {
   "cell_type": "code",
   "execution_count": 44,
   "metadata": {},
   "outputs": [
    {
     "name": "stdout",
     "output_type": "stream",
     "text": [
      "64\n"
     ]
    }
   ],
   "source": [
    "second_smallest_value = friend[1]\n",
    "print(second_smallest_value)"
   ]
  },
  {
   "cell_type": "code",
   "execution_count": 45,
   "metadata": {},
   "outputs": [
    {
     "name": "stdout",
     "output_type": "stream",
     "text": [
      "141\n"
     ]
    }
   ],
   "source": [
    "largest_friend = friend[-1]\n",
    "print(largest_friend)"
   ]
  },
  {
   "cell_type": "code",
   "execution_count": 46,
   "metadata": {},
   "outputs": [
    {
     "name": "stdout",
     "output_type": "stream",
     "text": [
      "117\n"
     ]
    }
   ],
   "source": [
    "second_largest_friend = friend[-2]\n",
    "print(second_largest_friend)"
   ]
  },
  {
   "cell_type": "code",
   "execution_count": 47,
   "metadata": {},
   "outputs": [],
   "source": [
    "def mean(x):\n",
    "    return (sum(x))/(len(x))"
   ]
  },
  {
   "cell_type": "code",
   "execution_count": 48,
   "metadata": {},
   "outputs": [
    {
     "name": "stdout",
     "output_type": "stream",
     "text": [
      "77.27333333333333\n"
     ]
    }
   ],
   "source": [
    "print(mean(friend))"
   ]
  },
  {
   "cell_type": "code",
   "execution_count": 49,
   "metadata": {},
   "outputs": [],
   "source": [
    "def medean(x):\n",
    "    number_x= len(x)\n",
    "    sort_x=sorted(x)\n",
    "    mid_point=number_x//2\n",
    "    if number_x%2 == 1:\n",
    "        return sort_x(mid_point)\n",
    "    else:\n",
    "        low = mid_point -1\n",
    "        high = mid_point\n",
    "        return (low + high)/2 "
   ]
  },
  {
   "cell_type": "code",
   "execution_count": 50,
   "metadata": {},
   "outputs": [
    {
     "name": "stdout",
     "output_type": "stream",
     "text": [
      "74.5\n"
     ]
    }
   ],
   "source": [
    "#when medean is float in this type of data so we figure out our data was even\n",
    "print(medean(friend))"
   ]
  },
  {
   "cell_type": "code",
   "execution_count": 51,
   "metadata": {},
   "outputs": [],
   "source": [
    "def quntile(x,p):\n",
    "    p_index = int(p*len(x))\n",
    "    return sorted(x)[p_index]"
   ]
  },
  {
   "cell_type": "code",
   "execution_count": 52,
   "metadata": {},
   "outputs": [
    {
     "name": "stdout",
     "output_type": "stream",
     "text": [
      "19\n",
      "42\n",
      "114\n",
      "135\n"
     ]
    }
   ],
   "source": [
    "print(quntile(friend,0.10))\n",
    "print(quntile(friend,0.25))\n",
    "print(quntile(friend,0.75))\n",
    "print(quntile(friend,0.90))"
   ]
  },
  {
   "cell_type": "code",
   "execution_count": 53,
   "metadata": {},
   "outputs": [],
   "source": [
    "def datarange(x):\n",
    "    return max(x) - min(x)"
   ]
  },
  {
   "cell_type": "code",
   "execution_count": 54,
   "metadata": {},
   "outputs": [
    {
     "name": "stdout",
     "output_type": "stream",
     "text": [
      "150\n"
     ]
    }
   ],
   "source": [
    "print(datarange(friend))"
   ]
  },
  {
   "cell_type": "code",
   "execution_count": 55,
   "metadata": {},
   "outputs": [],
   "source": [
    "#enheraf az meyar\n",
    "def demean(x):\n",
    "    xbar = mean(x)\n",
    "    return [xi-xbar for xi in x]"
   ]
  },
  {
   "cell_type": "code",
   "execution_count": 56,
   "metadata": {},
   "outputs": [
    {
     "name": "stdout",
     "output_type": "stream",
     "text": [
      "[38.726666666666674, -13.273333333333326, 13.726666666666674, 61.726666666666674, 7.726666666666674, 26.726666666666674, -16.273333333333326, -34.273333333333326, 6.726666666666674, 61.726666666666674, -64.27333333333333, 68.72666666666667, -6.273333333333326, -32.273333333333326, -24.273333333333326, -23.273333333333326, -16.273333333333326, 22.726666666666674, 36.726666666666674, 68.72666666666667, -66.27333333333333, -20.273333333333326, -76.27333333333333, -41.273333333333326, 44.726666666666674, 28.726666666666674, 34.726666666666674, 18.726666666666674, 24.726666666666674, 5.726666666666674, -44.273333333333326, 31.726666666666674, -8.273333333333326, -20.273333333333326, 0.7266666666666737, 48.726666666666674, 6.726666666666674, -47.273333333333326, -34.273333333333326, 38.726666666666674, 49.726666666666674, 46.726666666666674, -47.273333333333326, -66.27333333333333, -56.273333333333326, 62.726666666666674, -70.27333333333333, 32.726666666666674, 30.726666666666674, -38.273333333333326, -31.273333333333326, -65.27333333333333, -36.273333333333326, -41.273333333333326, 2.7266666666666737, 57.726666666666674, -60.273333333333326, 42.726666666666674, -43.273333333333326, -51.273333333333326, 8.726666666666674, 55.726666666666674, 58.726666666666674, 25.726666666666674, -4.273333333333326, 57.726666666666674, 9.726666666666674, -52.273333333333326, -35.273333333333326, 28.726666666666674, 17.726666666666674, 19.726666666666674, 65.72666666666667, 0.7266666666666737, 70.72666666666667, -13.273333333333326, 57.726666666666674, -20.273333333333326, -40.273333333333326, -32.273333333333326, 72.72666666666667, -43.273333333333326, -13.273333333333326, -43.273333333333326, -73.27333333333333, -77.27333333333333, 54.726666666666674, 6.726666666666674, -2.2733333333333263, -13.273333333333326, 0.7266666666666737, 6.726666666666674, -58.273333333333326, -12.273333333333326, -49.273333333333326, 21.726666666666674, 54.726666666666674, -11.273333333333326, 42.726666666666674, 32.726666666666674, -11.273333333333326, 42.726666666666674, -14.273333333333326, -71.27333333333333, -74.27333333333333, 27.726666666666674, -7.273333333333326, -9.273333333333326, -31.273333333333326, -6.273333333333326, 56.726666666666674, 26.726666666666674, -17.273333333333326, -12.273333333333326, -4.273333333333326, 65.72666666666667, 9.726666666666674, 1.7266666666666737, 36.726666666666674, 45.726666666666674, -45.273333333333326, -46.273333333333326, -35.273333333333326, -0.2733333333333263, 43.726666666666674, -39.273333333333326, 25.726666666666674, 17.726666666666674, -75.27333333333333, -71.27333333333333, -7.273333333333326, 68.72666666666667, -33.273333333333326, -6.273333333333326, 36.726666666666674, 40.726666666666674, -38.273333333333326, -40.273333333333326, 68.72666666666667, -16.273333333333326, 24.726666666666674, 45.726666666666674, -34.273333333333326, -75.27333333333333, -70.27333333333333, 7.726666666666674, 37.726666666666674, 54.726666666666674, 39.726666666666674, 63.726666666666674]\n"
     ]
    }
   ],
   "source": [
    "print(demean(friend))"
   ]
  },
  {
   "cell_type": "code",
   "execution_count": 57,
   "metadata": {},
   "outputs": [],
   "source": [
    "def dot(v,w):\n",
    "    return sum(vi*wi for vi,wi in zip(v,w))"
   ]
  },
  {
   "cell_type": "code",
   "execution_count": 58,
   "metadata": {},
   "outputs": [],
   "source": [
    "def sum_of_square(v):\n",
    "    return dot(v,v)"
   ]
  },
  {
   "cell_type": "code",
   "execution_count": 62,
   "metadata": {},
   "outputs": [],
   "source": [
    "def var(x):\n",
    "    n =len(x)\n",
    "    devi = demean(x)\n",
    "    return sum_of_square(devi)/n-1"
   ]
  },
  {
   "cell_type": "code",
   "execution_count": 63,
   "metadata": {},
   "outputs": [
    {
     "name": "stdout",
     "output_type": "stream",
     "text": [
      "1757.2119555555555\n"
     ]
    }
   ],
   "source": [
    "print(var(friend))"
   ]
  }
 ],
 "metadata": {
  "kernelspec": {
   "display_name": "Python 3.11.0 64-bit",
   "language": "python",
   "name": "python3"
  },
  "language_info": {
   "codemirror_mode": {
    "name": "ipython",
    "version": 3
   },
   "file_extension": ".py",
   "mimetype": "text/x-python",
   "name": "python",
   "nbconvert_exporter": "python",
   "pygments_lexer": "ipython3",
   "version": "3.11.0 (main, Oct 24 2022, 18:26:48) [MSC v.1933 64 bit (AMD64)]"
  },
  "orig_nbformat": 4,
  "vscode": {
   "interpreter": {
    "hash": "14cb37acfa168f00a0a90a983d6069e896b9091d53ee9d88c7c8727596e8c6a2"
   }
  }
 },
 "nbformat": 4,
 "nbformat_minor": 2
}
