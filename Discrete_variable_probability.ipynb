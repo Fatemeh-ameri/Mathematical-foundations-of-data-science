{
 "cells": [
  {
   "cell_type": "code",
   "execution_count": 1,
   "metadata": {},
   "outputs": [],
   "source": [
    "import random, enum"
   ]
  },
  {
   "cell_type": "code",
   "execution_count": 2,
   "metadata": {},
   "outputs": [],
   "source": [
    "class kid(enum.Enum):\n",
    "    BOY = 0\n",
    "    GIRL = 1"
   ]
  },
  {
   "cell_type": "code",
   "execution_count": 3,
   "metadata": {},
   "outputs": [],
   "source": [
    "# random dokhtar , pesar mide\n",
    "def random_kid() -> kid:\n",
    "    return random.choice([kid.BOY,kid.GIRL])"
   ]
  },
  {
   "cell_type": "code",
   "execution_count": 4,
   "metadata": {},
   "outputs": [],
   "source": [
    "boht_girl = 0\n",
    "older_girl = 0\n",
    "either_girl = 0\n",
    "random.seed(0)"
   ]
  },
  {
   "cell_type": "code",
   "execution_count": 5,
   "metadata": {},
   "outputs": [],
   "source": [
    "for _ in range(10000):\n",
    "    younger_kid = random_kid()\n",
    "    older_kid = random_kid()\n",
    "    if older_kid == kid.GIRL:\n",
    "        older_girl += 1\n",
    "    if older_kid == kid.GIRL and younger_kid == kid.GIRL:\n",
    "        boht_girl += 1\n",
    "    if older_girl == kid.GIRL or younger_kid == kid.GIRL:\n",
    "        either_girl += 1        "
   ]
  },
  {
   "cell_type": "code",
   "execution_count": 6,
   "metadata": {},
   "outputs": [
    {
     "name": "stdout",
     "output_type": "stream",
     "text": [
      "P(both|older):  0.5007089325501317\n",
      "P(both|either):  0.494498899779956\n"
     ]
    }
   ],
   "source": [
    "print(\"P(both|older): \",boht_girl/older_girl)\n",
    "print(\"P(both|either): \",boht_girl/either_girl)"
   ]
  },
  {
   "cell_type": "code",
   "execution_count": 7,
   "metadata": {},
   "outputs": [],
   "source": [
    "#dice\n",
    "class dice(enum.Enum):\n",
    "    ONE = 1\n",
    "    TWO = 2\n",
    "    THREE = 3\n",
    "    FOUR = 4\n",
    "    FIVE = 5\n",
    "    SIX = 6"
   ]
  },
  {
   "cell_type": "code",
   "execution_count": 8,
   "metadata": {},
   "outputs": [],
   "source": [
    "#random 1 ta 6 mide\n",
    "def random_dice() -> dice:\n",
    "    return random.choice([dice.ONE, dice.TWO, dice.THREE, dice.FOUR, dice.FIVE, dice.SIX])"
   ]
  },
  {
   "cell_type": "code",
   "execution_count": 21,
   "metadata": {},
   "outputs": [],
   "source": [
    "first_six = 0\n",
    "both_six = 0 \n",
    "random.seed(0)"
   ]
  },
  {
   "cell_type": "code",
   "execution_count": 35,
   "metadata": {},
   "outputs": [],
   "source": [
    "for _ in range(1000):\n",
    "    first_dice = random_dice()\n",
    "    second_dice = random_dice()\n",
    "    if first_dice == dice.SIX:\n",
    "        first_six += 1\n",
    "    if first_dice == dice.SIX and second_dice == dice.SIX:\n",
    "        both_six += 1"
   ]
  },
  {
   "cell_type": "code",
   "execution_count": 36,
   "metadata": {},
   "outputs": [
    {
     "name": "stdout",
     "output_type": "stream",
     "text": [
      "P(six) =  170.262\n",
      "P(SIX | SIX) =  0.055\n"
     ]
    }
   ],
   "source": [
    "print(\"P(six) = \", first_six / 1000)\n",
    "print(\"P(SIX | SIX) = \", both_six / 1000)"
   ]
  }
 ],
 "metadata": {
  "kernelspec": {
   "display_name": "Python 3",
   "language": "python",
   "name": "python3"
  },
  "language_info": {
   "codemirror_mode": {
    "name": "ipython",
    "version": 3
   },
   "file_extension": ".py",
   "mimetype": "text/x-python",
   "name": "python",
   "nbconvert_exporter": "python",
   "pygments_lexer": "ipython3",
   "version": "3.11.0 (main, Oct 24 2022, 18:26:48) [MSC v.1933 64 bit (AMD64)]"
  },
  "orig_nbformat": 4,
  "vscode": {
   "interpreter": {
    "hash": "14cb37acfa168f00a0a90a983d6069e896b9091d53ee9d88c7c8727596e8c6a2"
   }
  }
 },
 "nbformat": 4,
 "nbformat_minor": 2
}
